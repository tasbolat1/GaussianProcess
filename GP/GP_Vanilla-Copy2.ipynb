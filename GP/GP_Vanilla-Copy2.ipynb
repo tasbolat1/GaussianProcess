{
 "cells": [
  {
   "cell_type": "markdown",
   "metadata": {},
   "source": [
    "There are 20 trials: X1, X2, ..., X20\n",
    "keep the depth as 10\n",
    "\n",
    "Each trial has sequence of points: X1 = {x11, x12, x13, ..., x15}\n",
    "\n",
    "Algorithm:\n",
    "    1. upload X1 with given depth for 9 different objects\n",
    "    2. optimize hyperparameters for all of the models\n",
    "    3. predict depth+1, record probability, get label\n",
    "    4. re-upload X1 with new, remove anything far before depth+1"
   ]
  },
  {
   "cell_type": "code",
   "execution_count": 17,
   "metadata": {},
   "outputs": [],
   "source": [
    "%matplotlib inline\n",
    "import numpy as np\n",
    "from matplotlib import pyplot as plt\n",
    "from sklearn.metrics.pairwise import pairwise_kernels\n",
    "from scipy.optimize import fmin_l_bfgs_b\n",
    "from sklearn.datasets.samples_generator import make_blobs\n",
    "from scipy.linalg import cholesky, cho_solve, solve_triangular\n",
    "from scipy.spatial.distance import pdist, squareform"
   ]
  },
  {
   "cell_type": "code",
   "execution_count": 37,
   "metadata": {},
   "outputs": [],
   "source": [
    "sigma_n_square = 1e-10"
   ]
  },
  {
   "cell_type": "markdown",
   "metadata": {},
   "source": [
    "### Create fake dataset"
   ]
  },
  {
   "cell_type": "code",
   "execution_count": 18,
   "metadata": {},
   "outputs": [],
   "source": [
    "# create fake dataset\n",
    "X_data, y_data = make_blobs(n_samples=10, centers=2, n_features=2, random_state=10) # 26\n",
    "y_data[y_data==0] = -1\n",
    "\n",
    "y_data = y_data.reshape(-1,1)"
   ]
  },
  {
   "cell_type": "code",
   "execution_count": 19,
   "metadata": {},
   "outputs": [],
   "source": [
    "# number of dimension\n",
    "D = X_data.shape[1]"
   ]
  },
  {
   "cell_type": "code",
   "execution_count": 20,
   "metadata": {},
   "outputs": [],
   "source": [
    "X = X_data[:25,:]\n",
    "y = y_data[:25]"
   ]
  },
  {
   "cell_type": "code",
   "execution_count": 21,
   "metadata": {},
   "outputs": [
    {
     "data": {
      "image/png": "[encoded data removed]",
      "text/plain": [
       "<Figure size 216x216 with 1 Axes>"
      ]
     },
     "metadata": {},
     "output_type": "display_data"
    }
   ],
   "source": [
    "fig, ax = plt.subplots(figsize=(3,3))\n",
    "ax.plot(X[y.flatten()==1][:, 0], X[y.flatten()==1][:,1], 'ro', label='class 1')\n",
    "ax.plot(X[y.flatten()==-1][:, 0], X[y.flatten()==-1][:,1], 'bx', label = 'class -1')\n",
    "ax.set_xlabel(r'$x_1$')\n",
    "ax.set_ylabel(r'$x_2$')\n",
    "#ax.set_xlim(-10, 10)\n",
    "#ax.set_ylim(-5, 15)\n",
    "ax.legend(loc='upper left')\n",
    "plt.show()"
   ]
  },
  {
   "cell_type": "code",
   "execution_count": 23,
   "metadata": {},
   "outputs": [],
   "source": [
    "# depth  = 3\n",
    "# for it in range(X_data.shape)"
   ]
  },
  {
   "cell_type": "markdown",
   "metadata": {},
   "source": [
    "#### Kernels"
   ]
  },
  {
   "cell_type": "markdown",
   "metadata": {},
   "source": [
    "We squared exponential kerne (a.k.a RBF) with hyperparameter $l$:\n",
    "$$ K(x_i, x_j) = \\exp \\Big(\\frac{-|| x_i - x_j ||^2}{2l^2} \\Big) $$"
   ]
  },
  {
   "cell_type": "code",
   "execution_count": 104,
   "metadata": {},
   "outputs": [],
   "source": [
    "def squared_exp_kernel(X, theta_):\n",
    "    pairwise_dists = squareform(pdist(X, 'euclidean'))**2\n",
    "    K = np.exp(-pairwise_dists/ (2 * theta_[0] ** 2))\n",
    "    K_gradient = np.multiply(pairwise_dists/(theta_[0]**3), K)\n",
    "    return K, np.expand_dims(K_gradient, axis=2)\n",
    "\n",
    "def squared_exp_kernel_func(a, b, theta_):\n",
    "    # theta includes number of parameters\n",
    "    squared_dist = np.linalg.norm(a-b)**2\n",
    "    k = np.exp(-squared_dist/(2*theta_[0]**2))\n",
    "    return k"
   ]
  },
  {
   "cell_type": "code",
   "execution_count": 151,
   "metadata": {},
   "outputs": [],
   "source": [
    "def ard_squared_exp_kernel(X, theta_):\n",
    "    #%%timeit -n 1000\n",
    "    pairwise_dists = squareform(pdist(X, 'minkowski', p=2, w=(1/theta_**2)))**2\n",
    "    K = np.exp(-pairwise_dists/2)\n",
    "    \n",
    "    # calculate gradient\n",
    "    temp_X = np.zeros([X.shape[0], 2])\n",
    "    K_gradients = []\n",
    "    for dim in range(X.shape[1]):\n",
    "        temp_X[:,dim] = X[:,dim].copy()\n",
    "        temp_K = squareform( pdist(temp_X, 'sqeuclidean')/theta_[dim]**3 )\n",
    "        K_gradients.append(np.expand_dims(np.multiply(K, temp_K), axis=2))\n",
    "    return K, np.array(K_gradients)\n",
    "\n",
    "def ard_exp_kernel(a, b, theta_):\n",
    "    # theta includes number of parameters\n",
    "    squared_dist = (a-b)**2\n",
    "    squared_dist = np.dot(squared_dist, 1/theta_**2)\n",
    "    return np.exp(-squared_dist/2)"
   ]
  },
  {
   "cell_type": "code",
   "execution_count": 152,
   "metadata": {},
   "outputs": [],
   "source": [
    "K, K_gradient = ard_squared_exp_kernel(X, x0)"
   ]
  },
  {
   "cell_type": "code",
   "execution_count": 153,
   "metadata": {},
   "outputs": [
    {
     "data": {
      "text/plain": [
       "(10, 10, 1)"
      ]
     },
     "execution_count": 153,
     "metadata": {},
     "output_type": "execute_result"
    }
   ],
   "source": [
    "K_gradient[0].shape"
   ]
  },
  {
   "cell_type": "markdown",
   "metadata": {},
   "source": [
    "#### Optimization"
   ]
  },
  {
   "cell_type": "markdown",
   "metadata": {},
   "source": [
    "We need find paramaters of kernel, in our case it's $l$ to maximize log marginal likelihood.\n",
    "\n",
    "$$ \\mathcal{L} = \\log p(\\mathbf{y}|X) = -\\frac{1}{2} \\mathbf{y}^T \\mathbf{\\alpha} - \\sum_{i}^{N}L_{ii} - \\frac{N}{2} \\log(2 \\pi) $$"
   ]
  },
  {
   "cell_type": "code",
   "execution_count": 136,
   "metadata": {},
   "outputs": [],
   "source": [
    "x0 = np.array([1, 1])\n",
    "bounds =  ( (1e-2, 1e2), (1e-2, 1e2), )"
   ]
  },
  {
   "cell_type": "raw",
   "metadata": {},
   "source": [
    "# choose boundaries for optimazation\n",
    "LOCAL_BOUND = (1e-2, 1e2)\n",
    "bounds = []\n",
    "if kernel_type == 'exp_kernel':\n",
    "    bounds.append(LOCAL_BOUND)\n",
    "    x0 = np.ones(1) # only one value is optimized\n",
    "    kernel_func = exp_kernel\n",
    "else:\n",
    "    x0 = np.ones(X.shape[1])*10 # all dimension\n",
    "    kernel_func = ard_exp_kernel\n",
    "    for i in range(X.shape[1]):\n",
    "        bounds.append(LOCAL_BOUND)\n",
    "    if kernel_type == 'recursive_kernel':\n",
    "        bounds.append(LOCAL_BOUND)\n",
    "        x0 = np.ones(X.shape[1] + 1)*10 # rho added\n",
    "        kernel_func = recursive_kernel"
   ]
  },
  {
   "cell_type": "code",
   "execution_count": 154,
   "metadata": {},
   "outputs": [],
   "source": [
    "def log_marginal_likelihood(theta_, *args):\n",
    "    #print(kernel_func)\n",
    "    \n",
    "    #K, K_gradient = squared_exp_kernel(X, theta_=theta_)\n",
    "    K, K_gradient = ard_squared_exp_kernel(X, theta_=theta_)\n",
    "\n",
    "\n",
    "    # do Cholesky decomposition\n",
    "    L = cholesky(K + sigma_n_square*np.eye(len(X)), lower=True)\n",
    "    #print(L)\n",
    "    # solve for alpha\n",
    "    alpha = cho_solve(  (L, True), y )\n",
    "    #print(K_gradient.shape)\n",
    "    \n",
    "    tmp = np.einsum(\"ik,jk->ijk\", alpha, alpha)  # k: output-dimension\n",
    "    tmp -= cho_solve((L, True), np.eye(K.shape[0]))[:, :, np.newaxis]\n",
    "    \n",
    "    log_likelihood_gradients = []\n",
    "    for dim in range(X.shape[1]):\n",
    "        log_likelihood_gradient_dims = 0.5 * np.einsum(\"ijl,ijk->kl\", tmp, K_gradient[dim])\n",
    "        log_likelihood_gradient = log_likelihood_gradient_dims.sum(-1)\n",
    "        log_likelihood_gradients.append(-log_likelihood_gradient)\n",
    "    \n",
    "    return -( -0.5*np.dot(y.T, alpha) - np.sum(np.log(L.diagonal())) - X.shape[0]/2*np.log(2*np.pi) ), np.array(log_likelihood_gradients)"
   ]
  },
  {
   "cell_type": "code",
   "execution_count": 155,
   "metadata": {},
   "outputs": [],
   "source": [
    "def optimize_kernel_parameters(x0):\n",
    "    #x0 = np.array([1])\n",
    "    \n",
    "    #bounds =  ((1e-2, 1e2),(1e-2, 1e2),)\n",
    "    theta_estimate, min_log_marginal_likelihood, info = fmin_l_bfgs_b(func=log_marginal_likelihood, x0 = x0, args=(), bounds=bounds)\n",
    "    print('Optimization succeded with log marginal likelihood ', min_log_marginal_likelihood[0][0], ' in ', info['funcalls'],' iterations.')\n",
    "    return  theta_estimate, min_log_marginal_likelihood, info"
   ]
  },
  {
   "cell_type": "code",
   "execution_count": 156,
   "metadata": {},
   "outputs": [],
   "source": [
    "OPTIMIZATION_ITERATIONS = 10"
   ]
  },
  {
   "cell_type": "code",
   "execution_count": 158,
   "metadata": {},
   "outputs": [
    {
     "name": "stdout",
     "output_type": "stream",
     "text": [
      "Optimization succeded with log marginal likelihood  -11.446608590876075  in  53  iterations.\n"
     ]
    }
   ],
   "source": [
    "theta_estimate, min_log_marginal_likelihood, info = optimize_kernel_parameters(x0)"
   ]
  },
  {
   "cell_type": "code",
   "execution_count": 159,
   "metadata": {},
   "outputs": [
    {
     "data": {
      "text/plain": [
       "array([23.39804701,  6.26470966])"
      ]
     },
     "execution_count": 159,
     "metadata": {},
     "output_type": "execute_result"
    }
   ],
   "source": [
    "theta_estimate"
   ]
  },
  {
   "cell_type": "code",
   "execution_count": 99,
   "metadata": {},
   "outputs": [
    {
     "data": {
      "text/plain": [
       "array([[1.e-02, 1.e+02]])"
      ]
     },
     "execution_count": 99,
     "metadata": {},
     "output_type": "execute_result"
    }
   ],
   "source": [
    "bounds"
   ]
  },
  {
   "cell_type": "code",
   "execution_count": 160,
   "metadata": {},
   "outputs": [
    {
     "name": "stdout",
     "output_type": "stream",
     "text": [
      "Optimization succeded with log marginal likelihood  -11.446608590876075  in  53  iterations.\n",
      "Optimization succeded with log marginal likelihood  -11.446608590876075  in  53  iterations.\n",
      "Optimization succeded with log marginal likelihood  -11.446608590876075  in  53  iterations.\n",
      "Optimization succeded with log marginal likelihood  -11.446608590876075  in  53  iterations.\n",
      "Optimization succeded with log marginal likelihood  -11.446608590876075  in  53  iterations.\n",
      "Optimization succeded with log marginal likelihood  -11.446608590876075  in  53  iterations.\n",
      "Optimization succeded with log marginal likelihood  -11.446608590876075  in  53  iterations.\n",
      "Optimization succeded with log marginal likelihood  -11.446608590876075  in  53  iterations.\n",
      "Optimization succeded with log marginal likelihood  -11.446608590876075  in  53  iterations.\n",
      "Optimization succeded with log marginal likelihood  -11.446608590876075  in  53  iterations.\n",
      "CPU times: user 759 ms, sys: 13.9 ms, total: 773 ms\n",
      "Wall time: 751 ms\n"
     ]
    }
   ],
   "source": [
    "%%time\n",
    "log_likelihood_list = []\n",
    "theta_est_list  = []\n",
    "for i in range(OPTIMIZATION_ITERATIONS):\n",
    "    bounds = np.array(bounds)\n",
    "    theta_initial = np.random.uniform(bounds[:, 0], bounds[:, 1])\n",
    "    theta_estimate, min_log_marginal_likelihood, info = optimize_kernel_parameters(x0)\n",
    "    log_likelihood_list.append(min_log_marginal_likelihood[0][0])\n",
    "    theta_est_list.append(theta_estimate)"
   ]
  },
  {
   "cell_type": "code",
   "execution_count": 101,
   "metadata": {},
   "outputs": [
    {
     "data": {
      "text/plain": [
       "6.065800964396905"
      ]
     },
     "execution_count": 101,
     "metadata": {},
     "output_type": "execute_result"
    }
   ],
   "source": [
    "theta_estimate[np.argmin(log_likelihood_list)]"
   ]
  },
  {
   "cell_type": "code",
   "execution_count": 102,
   "metadata": {
    "scrolled": true
   },
   "outputs": [
    {
     "data": {
      "text/plain": [
       "{'grad': array([6.55392809e-06]),\n",
       " 'task': b'CONVERGENCE: NORM_OF_PROJECTED_GRADIENT_<=_PGTOL',\n",
       " 'funcalls': 8,\n",
       " 'nit': 7,\n",
       " 'warnflag': 0}"
      ]
     },
     "execution_count": 102,
     "metadata": {},
     "output_type": "execute_result"
    }
   ],
   "source": [
    "info"
   ]
  },
  {
   "cell_type": "code",
   "execution_count": 103,
   "metadata": {},
   "outputs": [
    {
     "data": {
      "text/plain": [
       "array([6.06580096])"
      ]
     },
     "execution_count": 103,
     "metadata": {},
     "output_type": "execute_result"
    }
   ],
   "source": [
    "theta_estimate"
   ]
  },
  {
   "cell_type": "code",
   "execution_count": 108,
   "metadata": {},
   "outputs": [],
   "source": [
    "# make prediction\n",
    "def predict(x_star, theta_):\n",
    "\n",
    "    # create covariance matrix using kernel\n",
    "    #K = pairwise_kernels(X, metric=kernel_func,  theta_=theta)\n",
    "    K, _ = squared_exp_kernel(X, theta_=theta_)\n",
    "\n",
    "    # do Cholesky decomposition\n",
    "    L = cholesky(K + sigma_n_square*np.eye(X.shape[0]), lower=True)\n",
    "\n",
    "    # solve for alpha\n",
    "    alpha = cho_solve(    (L, True),    y   )\n",
    "    \n",
    "    L_inv = solve_triangular(L.T, np.eye(L.shape[0]))\n",
    "    K_inv = L_inv.dot(L_inv.T)\n",
    "\n",
    "    k_star = pairwise_kernels(x_star, X, metric=squared_exp_kernel_func,  theta_= theta_)\n",
    "    y_mean = k_star.dot(alpha) + np.mean(y)\n",
    "    y_var = np.ones(x_star.shape[0]) - np.einsum(\"ij,ij->i\", np.dot(k_star, K_inv), k_star)\n",
    "    y_var[y_var < 0] = 0\n",
    "\n",
    "    # log marginal likelihood\n",
    "    log_marg_likelihood = -0.5*np.dot(y.T, alpha) - np.sum(np.log(L.diagonal())) - X.shape[0]/2*np.log(2*np.pi)\n",
    "    \n",
    "    #print(-0.5*np.dot(y.T, alpha) - np.sum(np.log(L.diagonal())) - X.shape[0]/2*np.log(2*np.pi))\n",
    "    return y_mean, np.sqrt(y_var), log_marg_likelihood"
   ]
  },
  {
   "cell_type": "code",
   "execution_count": 111,
   "metadata": {},
   "outputs": [],
   "source": [
    "y_pred, y_sigma, y_log_lh = predict(X_data, theta_estimate)"
   ]
  },
  {
   "cell_type": "code",
   "execution_count": 110,
   "metadata": {
    "scrolled": true
   },
   "outputs": [
    {
     "ename": "NameError",
     "evalue": "name 'sigma2' is not defined",
     "output_type": "error",
     "traceback": [
      "\u001b[0;31m---------------------------------------------------------------------------\u001b[0m",
      "\u001b[0;31mNameError\u001b[0m                                 Traceback (most recent call last)",
      "\u001b[0;32m<ipython-input-110-dc79bd19e5d8>\u001b[0m in \u001b[0;36m<module>\u001b[0;34m()\u001b[0m\n\u001b[0;32m----> 1\u001b[0;31m \u001b[0my_sigma\u001b[0m\u001b[0;34m,\u001b[0m \u001b[0msigma2\u001b[0m\u001b[0;34m\u001b[0m\u001b[0m\n\u001b[0m",
      "\u001b[0;31mNameError\u001b[0m: name 'sigma2' is not defined"
     ]
    }
   ],
   "source": [
    "y_sigma, sigma2"
   ]
  },
  {
   "cell_type": "code",
   "execution_count": 28,
   "metadata": {},
   "outputs": [
    {
     "data": {
      "text/plain": [
       "array([[43.6235042]])"
      ]
     },
     "execution_count": 28,
     "metadata": {},
     "output_type": "execute_result"
    }
   ],
   "source": [
    "y_log_lh"
   ]
  },
  {
   "cell_type": "code",
   "execution_count": 112,
   "metadata": {},
   "outputs": [
    {
     "data": {
      "text/plain": [
       "array([[-0.99999999],\n",
       "       [ 1.        ],\n",
       "       [ 1.        ],\n",
       "       [ 1.00000001],\n",
       "       [-1.        ],\n",
       "       [ 1.        ],\n",
       "       [-1.00000002],\n",
       "       [-1.        ],\n",
       "       [-0.99999999],\n",
       "       [ 1.        ]])"
      ]
     },
     "execution_count": 112,
     "metadata": {},
     "output_type": "execute_result"
    }
   ],
   "source": [
    "y_pred"
   ]
  },
  {
   "cell_type": "code",
   "execution_count": 113,
   "metadata": {},
   "outputs": [
    {
     "data": {
      "text/plain": [
       "array([9.81604309e-06, 1.00032584e-05, 9.99789077e-06, 1.00063544e-05,\n",
       "       9.89447202e-06, 9.99609722e-06, 9.93188943e-06, 9.86513143e-06,\n",
       "       9.96443223e-06, 9.99888458e-06])"
      ]
     },
     "execution_count": 113,
     "metadata": {},
     "output_type": "execute_result"
    }
   ],
   "source": [
    "y_sigma"
   ]
  },
  {
   "cell_type": "code",
   "execution_count": 31,
   "metadata": {},
   "outputs": [
    {
     "data": {
      "text/plain": [
       "array([[1],\n",
       "       [1]])"
      ]
     },
     "execution_count": 31,
     "metadata": {},
     "output_type": "execute_result"
    }
   ],
   "source": [
    "y_data[26:28]"
   ]
  },
  {
   "cell_type": "code",
   "execution_count": 32,
   "metadata": {},
   "outputs": [
    {
     "data": {
      "text/plain": [
       "array([1.16527088e-07])"
      ]
     },
     "execution_count": 32,
     "metadata": {},
     "output_type": "execute_result"
    }
   ],
   "source": [
    "1/np.sqrt(2*np.pi*y_sigma[0]**2)*np.exp( - (y_pred[0] - 1)**2 / (2*y_sigma[0]**2) )"
   ]
  },
  {
   "cell_type": "markdown",
   "metadata": {},
   "source": [
    "Gaussian distribution\n",
    "$$ p(x | \\mu, \\sigma) = \\frac{1}{\\sqrt{2\\pi \\sigma^2} } \\exp \\Big( - \\frac{(x-\\mu)^2}{2\\sigma^2} \\Big) $$"
   ]
  },
  {
   "cell_type": "code",
   "execution_count": 33,
   "metadata": {},
   "outputs": [
    {
     "ename": "AttributeError",
     "evalue": "'numpy.ndarray' object has no attribute 'faltten'",
     "output_type": "error",
     "traceback": [
      "\u001b[0;31m---------------------------------------------------------------------------\u001b[0m",
      "\u001b[0;31mAttributeError\u001b[0m                            Traceback (most recent call last)",
      "\u001b[0;32m<ipython-input-33-753eb556eca8>\u001b[0m in \u001b[0;36m<module>\u001b[0;34m()\u001b[0m\n\u001b[0;32m----> 1\u001b[0;31m \u001b[0my_data\u001b[0m\u001b[0;34m[\u001b[0m\u001b[0;36m26\u001b[0m\u001b[0;34m:\u001b[0m\u001b[0;36m40\u001b[0m\u001b[0;34m]\u001b[0m\u001b[0;34m.\u001b[0m\u001b[0mfaltten\u001b[0m\u001b[0;34m(\u001b[0m\u001b[0;34m)\u001b[0m\u001b[0;34m\u001b[0m\u001b[0m\n\u001b[0m",
      "\u001b[0;31mAttributeError\u001b[0m: 'numpy.ndarray' object has no attribute 'faltten'"
     ]
    }
   ],
   "source": [
    "y_data[26:40].faltten()"
   ]
  },
  {
   "cell_type": "code",
   "execution_count": 118,
   "metadata": {},
   "outputs": [],
   "source": [
    "def gaussian_pdf(x_, mu_, sigma_):\n",
    "    return  np.exp( - (x_ - mu_)**2 / (2 * sigma_**2) )* 1/ ( np.sqrt(2*np.pi) * sigma_)"
   ]
  },
  {
   "cell_type": "code",
   "execution_count": 119,
   "metadata": {},
   "outputs": [
    {
     "data": {
      "text/plain": [
       "array([[-0.99999999],\n",
       "       [ 1.        ],\n",
       "       [ 1.        ],\n",
       "       [ 1.00000001],\n",
       "       [-1.        ],\n",
       "       [ 1.        ],\n",
       "       [-1.00000002],\n",
       "       [-1.        ],\n",
       "       [-0.99999999],\n",
       "       [ 1.        ]])"
      ]
     },
     "execution_count": 119,
     "metadata": {},
     "output_type": "execute_result"
    }
   ],
   "source": [
    "y_pred"
   ]
  },
  {
   "cell_type": "code",
   "execution_count": 120,
   "metadata": {},
   "outputs": [
    {
     "data": {
      "text/plain": [
       "array([40641.85639195, 39881.23215949, 39902.64396791, 39868.88837463,\n",
       "       40319.71353363, 39909.79930151, 40167.75604571, 40439.62815955,\n",
       "       40036.62161825, 39898.67799849])"
      ]
     },
     "execution_count": 120,
     "metadata": {},
     "output_type": "execute_result"
    }
   ],
   "source": [
    "gaussian_pdf(y_pred.flatten(), y_data.flatten(), y_sigma)"
   ]
  },
  {
   "cell_type": "code",
   "execution_count": 121,
   "metadata": {},
   "outputs": [],
   "source": [
    "from sklearn.gaussian_process import GaussianProcessRegressor\n",
    "from sklearn.gaussian_process.kernels import RBF, ConstantKernel as C"
   ]
  },
  {
   "cell_type": "code",
   "execution_count": 122,
   "metadata": {},
   "outputs": [],
   "source": [
    "# Instantiate a Gaussian Process model\n",
    "kernel = RBF(1, (1e-2, 1e2))\n",
    "gp = GaussianProcessRegressor(kernel=kernel, n_restarts_optimizer=9, alpha=sigma_n_square)"
   ]
  },
  {
   "cell_type": "code",
   "execution_count": 123,
   "metadata": {},
   "outputs": [
    {
     "name": "stdout",
     "output_type": "stream",
     "text": [
      "CPU times: user 45.7 ms, sys: 4.09 ms, total: 49.8 ms\n",
      "Wall time: 45.4 ms\n"
     ]
    },
    {
     "data": {
      "text/plain": [
       "GaussianProcessRegressor(alpha=1e-10, copy_X_train=True,\n",
       "             kernel=RBF(length_scale=1), n_restarts_optimizer=9,\n",
       "             normalize_y=False, optimizer='fmin_l_bfgs_b',\n",
       "             random_state=None)"
      ]
     },
     "execution_count": 123,
     "metadata": {},
     "output_type": "execute_result"
    }
   ],
   "source": [
    "%%time\n",
    "# train GP model\n",
    "gp.fit(X, y.flatten())"
   ]
  },
  {
   "cell_type": "code",
   "execution_count": 124,
   "metadata": {},
   "outputs": [
    {
     "data": {
      "text/plain": [
       "1.1235955056179776"
      ]
     },
     "execution_count": 124,
     "metadata": {},
     "output_type": "execute_result"
    }
   ],
   "source": [
    "1/1.78*2"
   ]
  },
  {
   "cell_type": "code",
   "execution_count": 125,
   "metadata": {},
   "outputs": [
    {
     "data": {
      "text/plain": [
       "array([1.80266611])"
      ]
     },
     "execution_count": 125,
     "metadata": {},
     "output_type": "execute_result"
    }
   ],
   "source": [
    "gp.kernel_.theta"
   ]
  },
  {
   "cell_type": "code",
   "execution_count": 126,
   "metadata": {},
   "outputs": [
    {
     "data": {
      "text/plain": [
       "5.875832117180522"
      ]
     },
     "execution_count": 126,
     "metadata": {},
     "output_type": "execute_result"
    }
   ],
   "source": [
    "gp.log_marginal_likelihood_value_"
   ]
  },
  {
   "cell_type": "code",
   "execution_count": 127,
   "metadata": {},
   "outputs": [],
   "source": [
    "y_pred2, sigma2 = gp.predict(X=X_data, return_std=True)"
   ]
  },
  {
   "cell_type": "code",
   "execution_count": 128,
   "metadata": {},
   "outputs": [
    {
     "data": {
      "text/plain": [
       "array([-0.99999999,  1.        ,  1.        ,  1.00000001, -1.        ,\n",
       "        1.        , -1.00000002, -1.        , -0.99999999,  1.        ])"
      ]
     },
     "execution_count": 128,
     "metadata": {},
     "output_type": "execute_result"
    }
   ],
   "source": [
    "y_pred2"
   ]
  },
  {
   "cell_type": "code",
   "execution_count": 129,
   "metadata": {},
   "outputs": [
    {
     "data": {
      "text/plain": [
       "array([9.93620892e-06, 1.00108858e-05, 1.00121167e-05, 1.00114957e-05,\n",
       "       9.75286977e-06, 1.00172440e-05, 9.81737762e-06, 9.76996994e-06,\n",
       "       9.73029852e-06, 1.00103368e-05])"
      ]
     },
     "execution_count": 129,
     "metadata": {},
     "output_type": "execute_result"
    }
   ],
   "source": [
    "sigma2"
   ]
  },
  {
   "cell_type": "code",
   "execution_count": 130,
   "metadata": {},
   "outputs": [
    {
     "data": {
      "text/plain": [
       "0.0"
      ]
     },
     "execution_count": 130,
     "metadata": {},
     "output_type": "execute_result"
    }
   ],
   "source": [
    "gaussian_pdf(x_ = y_pred2[2], mu_= -1, sigma_=sigma2[2] )"
   ]
  },
  {
   "cell_type": "code",
   "execution_count": 131,
   "metadata": {},
   "outputs": [
    {
     "data": {
      "text/plain": [
       "array([40150.34489746, 39850.84627075, 39845.94740138, 39848.41414472,\n",
       "       40905.11684126, 39825.54836939, 40636.27923523, 40833.51824499,\n",
       "       40999.99584721, 39853.03233327])"
      ]
     },
     "execution_count": 131,
     "metadata": {},
     "output_type": "execute_result"
    }
   ],
   "source": [
    "gaussian_pdf(x_= y_pred2 , mu_= y_data.flatten(), sigma_=sigma2)"
   ]
  },
  {
   "cell_type": "code",
   "execution_count": 93,
   "metadata": {
    "scrolled": true
   },
   "outputs": [
    {
     "data": {
      "text/plain": [
       "RBF(length_scale=6.07)"
      ]
     },
     "execution_count": 93,
     "metadata": {},
     "output_type": "execute_result"
    }
   ],
   "source": [
    "gp.kernel_"
   ]
  },
  {
   "cell_type": "code",
   "execution_count": 132,
   "metadata": {},
   "outputs": [
    {
     "data": {
      "text/plain": [
       "(array([-0.99999999,  1.        ,  1.        ,  1.00000001, -1.        ,\n",
       "         1.        , -1.00000002, -1.        , -0.99999999,  1.        ]),\n",
       " array([[-0.99999999],\n",
       "        [ 1.        ],\n",
       "        [ 1.        ],\n",
       "        [ 1.00000001],\n",
       "        [-1.        ],\n",
       "        [ 1.        ],\n",
       "        [-1.00000002],\n",
       "        [-1.        ],\n",
       "        [-0.99999999],\n",
       "        [ 1.        ]]))"
      ]
     },
     "execution_count": 132,
     "metadata": {},
     "output_type": "execute_result"
    }
   ],
   "source": [
    "y_pred2, y_pred"
   ]
  },
  {
   "cell_type": "code",
   "execution_count": 119,
   "metadata": {},
   "outputs": [
    {
     "data": {
      "text/plain": [
       "(array([0.00000000e+00, 2.97069159e-05]), array([0., 0.]))"
      ]
     },
     "execution_count": 119,
     "metadata": {},
     "output_type": "execute_result"
    }
   ],
   "source": [
    "sigma2, y_sigma"
   ]
  }
 ],
 "metadata": {
  "kernelspec": {
   "display_name": "Python 3",
   "language": "python",
   "name": "python3"
  },
  "language_info": {
   "codemirror_mode": {
    "name": "ipython",
    "version": 3
   },
   "file_extension": ".py",
   "mimetype": "text/x-python",
   "name": "python",
   "nbconvert_exporter": "python",
   "pygments_lexer": "ipython3",
   "version": "3.6.5"
  }
 },
 "nbformat": 4,
 "nbformat_minor": 2
}
