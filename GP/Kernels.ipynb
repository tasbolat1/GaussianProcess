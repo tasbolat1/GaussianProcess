{
 "cells": [
  {
   "cell_type": "markdown",
   "metadata": {},
   "source": [
    "### Kernels and Gradients"
   ]
  },
  {
   "cell_type": "code",
   "execution_count": 2,
   "metadata": {},
   "outputs": [],
   "source": [
    "%matplotlib inline\n",
    "from scipy.spatial.distance import pdist, squareform\n",
    "import numpy as np\n",
    "from matplotlib import pyplot as plt\n",
    "from sklearn.metrics.pairwise import pairwise_kernels\n",
    "from scipy.optimize import fmin_l_bfgs_b\n",
    "from sklearn.datasets.samples_generator import make_blobs\n",
    "from scipy.linalg import cholesky, cho_solve, solve_triangular"
   ]
  },
  {
   "cell_type": "code",
   "execution_count": 3,
   "metadata": {},
   "outputs": [],
   "source": [
    "Z = np.array([[1,2], [3,4], [5,6]])"
   ]
  },
  {
   "cell_type": "markdown",
   "metadata": {},
   "source": [
    "# RBF kernel"
   ]
  },
  {
   "cell_type": "markdown",
   "metadata": {},
   "source": [
    "Squared exponential kernel (a.k.a RBF) with hyperparameter $l$:\n",
    "$$ K(x_i, x_j) = \\exp \\Big(\\frac{-|| x_i - x_j ||^2}{2l^2} \\Big) $$\n",
    "Kernel gradient is:\n",
    "$$  \\frac{d K(x_i, x_j)}{d l}  = \\frac{||x_i - x_j||^2}{l^3}  K(x_i, x_j) $$"
   ]
  },
  {
   "cell_type": "code",
   "execution_count": 4,
   "metadata": {},
   "outputs": [],
   "source": [
    "theta = np.array([2,2])"
   ]
  },
  {
   "cell_type": "code",
   "execution_count": 5,
   "metadata": {},
   "outputs": [
    {
     "data": {
      "text/plain": [
       "array([2.82842712, 5.65685425, 2.82842712])"
      ]
     },
     "execution_count": 5,
     "metadata": {},
     "output_type": "execute_result"
    }
   ],
   "source": [
    "pdist(Z, 'euclidean')"
   ]
  },
  {
   "cell_type": "code",
   "execution_count": 6,
   "metadata": {},
   "outputs": [
    {
     "data": {
      "text/plain": [
       "2.8284271247461903"
      ]
     },
     "execution_count": 6,
     "metadata": {},
     "output_type": "execute_result"
    }
   ],
   "source": [
    "np.linalg.norm(Z[1] - Z[2])"
   ]
  },
  {
   "cell_type": "code",
   "execution_count": 7,
   "metadata": {},
   "outputs": [
    {
     "data": {
      "text/plain": [
       "array([0.25, 0.25])"
      ]
     },
     "execution_count": 7,
     "metadata": {},
     "output_type": "execute_result"
    }
   ],
   "source": [
    "(1/theta**2)"
   ]
  },
  {
   "cell_type": "code",
   "execution_count": 8,
   "metadata": {},
   "outputs": [
    {
     "name": "stdout",
     "output_type": "stream",
     "text": [
      "151 µs ± 10.3 µs per loop (mean ± std. dev. of 7 runs, 1000 loops each)\n"
     ]
    }
   ],
   "source": [
    "%%timeit -n 1000\n",
    "pdist(Z, 'minkowski', p=2, w=(1/theta**2))"
   ]
  },
  {
   "cell_type": "code",
   "execution_count": 9,
   "metadata": {},
   "outputs": [
    {
     "data": {
      "text/plain": [
       "array([[1, 2],\n",
       "       [3, 4],\n",
       "       [5, 6]])"
      ]
     },
     "execution_count": 9,
     "metadata": {},
     "output_type": "execute_result"
    }
   ],
   "source": [
    "Z"
   ]
  },
  {
   "cell_type": "code",
   "execution_count": 39,
   "metadata": {},
   "outputs": [],
   "source": [
    "def squared_exp_kernel(X, theta):\n",
    "    pairwise_dists = squareform(pdist(X, 'euclidean'))**2\n",
    "    K = np.exp(-pairwise_dists/ (2 * theta[0] ** 2))\n",
    "    K_gradient = np.multiply(pairwise_dists/(theta[0]**3), K)\n",
    "    return K, np.expand_dims(K_gradient, axis=2)"
   ]
  },
  {
   "cell_type": "code",
   "execution_count": 40,
   "metadata": {},
   "outputs": [],
   "source": [
    "def squared_exp_kernel_func(a, b, theta_):\n",
    "    # theta includes number of parameters\n",
    "    squared_dist = np.linalg.norm(a-b)**2\n",
    "    k = np.exp(-squared_dist/(2*theta_[0]**2))\n",
    "    return k"
   ]
  },
  {
   "cell_type": "code",
   "execution_count": 41,
   "metadata": {},
   "outputs": [],
   "source": [
    "#%%timeit -n 1000\n",
    "K2, K2_gradient = squared_exp_kernel(Z, [2])"
   ]
  },
  {
   "cell_type": "code",
   "execution_count": 42,
   "metadata": {},
   "outputs": [
    {
     "data": {
      "text/plain": [
       "array([[1.        , 0.36787944, 0.01831564],\n",
       "       [0.36787944, 1.        , 0.36787944],\n",
       "       [0.01831564, 0.36787944, 1.        ]])"
      ]
     },
     "execution_count": 42,
     "metadata": {},
     "output_type": "execute_result"
    }
   ],
   "source": [
    "K2"
   ]
  },
  {
   "cell_type": "code",
   "execution_count": 43,
   "metadata": {},
   "outputs": [
    {
     "data": {
      "text/plain": [
       "(3, 3, 1)"
      ]
     },
     "execution_count": 43,
     "metadata": {},
     "output_type": "execute_result"
    }
   ],
   "source": [
    "K2_gradient.shape"
   ]
  },
  {
   "cell_type": "code",
   "execution_count": 44,
   "metadata": {},
   "outputs": [
    {
     "data": {
      "text/plain": [
       "array([[[0.        ],\n",
       "        [0.36787944],\n",
       "        [0.07326256]],\n",
       "\n",
       "       [[0.36787944],\n",
       "        [0.        ],\n",
       "        [0.36787944]],\n",
       "\n",
       "       [[0.07326256],\n",
       "        [0.36787944],\n",
       "        [0.        ]]])"
      ]
     },
     "execution_count": 44,
     "metadata": {},
     "output_type": "execute_result"
    }
   ],
   "source": [
    "K2_gradient"
   ]
  },
  {
   "cell_type": "raw",
   "metadata": {},
   "source": [
    "K_grad = \n",
    "array([[ 0.        ,  0.36787944,  0.07326256],\n",
    "       [ 0.36787944,  0.        ,  0.36787944],\n",
    "       [ 0.07326256,  0.36787944,  0.        ]])"
   ]
  },
  {
   "cell_type": "code",
   "execution_count": 15,
   "metadata": {},
   "outputs": [],
   "source": [
    "from sklearn.gaussian_process.kernels import RBF\n",
    "my_kernel = RBF(2.0)\n",
    "A, B = my_kernel(Z, eval_gradient=True)"
   ]
  },
  {
   "cell_type": "code",
   "execution_count": 16,
   "metadata": {},
   "outputs": [
    {
     "data": {
      "text/plain": [
       "array([[1.        , 0.36787944, 0.01831564],\n",
       "       [0.36787944, 1.        , 0.36787944],\n",
       "       [0.01831564, 0.36787944, 1.        ]])"
      ]
     },
     "execution_count": 16,
     "metadata": {},
     "output_type": "execute_result"
    }
   ],
   "source": [
    "A"
   ]
  },
  {
   "cell_type": "code",
   "execution_count": 47,
   "metadata": {},
   "outputs": [
    {
     "data": {
      "text/plain": [
       "array([[[0.        ],\n",
       "        [0.73575888],\n",
       "        [0.14652511]],\n",
       "\n",
       "       [[0.73575888],\n",
       "        [0.        ],\n",
       "        [0.73575888]],\n",
       "\n",
       "       [[0.14652511],\n",
       "        [0.73575888],\n",
       "        [0.        ]]])"
      ]
     },
     "execution_count": 47,
     "metadata": {},
     "output_type": "execute_result"
    }
   ],
   "source": [
    "B"
   ]
  },
  {
   "cell_type": "markdown",
   "metadata": {},
   "source": [
    "# ARD Kernel"
   ]
  },
  {
   "cell_type": "markdown",
   "metadata": {},
   "source": [
    "Automatic Relevance Determination (ARD) squared exponential kernel:\n",
    "$$ K(x_i, x_j) = \\exp \\Big( \\sum_{d=1}^{D} \\frac{-|| x_i - x_j ||^2}{2l_d^2} \\Big)  $$\n",
    "where $l_d$ is scaling hyperparameter for each dimension\n",
    "\n",
    "Kernel gradient is:\n",
    "$$  \\frac{d K(x_i, x_j)}{d l_d}  = \\frac{||x_{id} - x_{jd}||^2}{l_d^3}  K(x_i, x_j) $$"
   ]
  },
  {
   "cell_type": "code",
   "execution_count": 29,
   "metadata": {},
   "outputs": [
    {
     "data": {
      "text/plain": [
       "array([[1, 2],\n",
       "       [3, 4],\n",
       "       [5, 6]])"
      ]
     },
     "execution_count": 29,
     "metadata": {},
     "output_type": "execute_result"
    }
   ],
   "source": [
    "Z"
   ]
  },
  {
   "cell_type": "code",
   "execution_count": 30,
   "metadata": {},
   "outputs": [
    {
     "data": {
      "text/plain": [
       "array([3, 4])"
      ]
     },
     "execution_count": 30,
     "metadata": {},
     "output_type": "execute_result"
    }
   ],
   "source": [
    "Z[1]"
   ]
  },
  {
   "cell_type": "code",
   "execution_count": 33,
   "metadata": {},
   "outputs": [
    {
     "data": {
      "text/plain": [
       "2.0000000000000004"
      ]
     },
     "execution_count": 33,
     "metadata": {},
     "output_type": "execute_result"
    }
   ],
   "source": [
    "wminkowski(Z[0], Z[1], 2, 1/theta)**2"
   ]
  },
  {
   "cell_type": "code",
   "execution_count": 57,
   "metadata": {},
   "outputs": [],
   "source": [
    "theta = np.array([2,3])"
   ]
  },
  {
   "cell_type": "code",
   "execution_count": 34,
   "metadata": {},
   "outputs": [
    {
     "data": {
      "text/plain": [
       "1.4142135623730951"
      ]
     },
     "execution_count": 34,
     "metadata": {},
     "output_type": "execute_result"
    }
   ],
   "source": [
    "( ( (Z[0][0] - Z[2][0]) / theta[0] )**2 + ( (Z[0][1] - Z[2][1]) / theta[1] ) ) ** (0.5)"
   ]
  },
  {
   "cell_type": "code",
   "execution_count": 35,
   "metadata": {},
   "outputs": [
    {
     "data": {
      "text/plain": [
       "array([1, 3, 5])"
      ]
     },
     "execution_count": 35,
     "metadata": {},
     "output_type": "execute_result"
    }
   ],
   "source": [
    "Z[:,0]"
   ]
  },
  {
   "cell_type": "code",
   "execution_count": 104,
   "metadata": {},
   "outputs": [],
   "source": [
    "def ard_squared_exp_kernel(X, theta_):\n",
    "    #%%timeit -n 1000\n",
    "    pairwise_dists = squareform(pdist(X, 'minkowski', p=2, w=(1/theta_**2)))**2\n",
    "    K = np.exp(-pairwise_dists/2)\n",
    "    \n",
    "    # calculate gradient\n",
    "    temp_X = np.zeros([X.shape[0], 2])\n",
    "    K_gradients = []\n",
    "    for dim in range(X.shape[1]):\n",
    "        temp_X[:,dim] = Z[:,dim].copy()\n",
    "        temp_K = squareform( pdist(temp_X, 'sqeuclidean')/theta[dim]**3 )\n",
    "        K_gradients.append(np.multiply(K, temp_K))\n",
    "    return K, np.array(K_gradients)"
   ]
  },
  {
   "cell_type": "code",
   "execution_count": 115,
   "metadata": {},
   "outputs": [
    {
     "name": "stdout",
     "output_type": "stream",
     "text": [
      "179 µs ± 22.8 µs per loop (mean ± std. dev. of 7 runs, 1000 loops each)\n"
     ]
    }
   ],
   "source": [
    "%%timeit -n 1000\n",
    "K3, K3_gradient = ard_squared_exp_kernel(Z, theta)"
   ]
  },
  {
   "cell_type": "code",
   "execution_count": 113,
   "metadata": {},
   "outputs": [
    {
     "data": {
      "text/plain": [
       "array([[1.        , 0.48567179, 0.055638  ],\n",
       "       [0.48567179, 1.        , 0.48567179],\n",
       "       [0.055638  , 0.48567179, 1.        ]])"
      ]
     },
     "execution_count": 113,
     "metadata": {},
     "output_type": "execute_result"
    }
   ],
   "source": [
    "K3"
   ]
  },
  {
   "cell_type": "code",
   "execution_count": 112,
   "metadata": {},
   "outputs": [
    {
     "data": {
      "text/plain": [
       "array([[[0.        , 0.24283589, 0.111276  ],\n",
       "        [0.24283589, 0.        , 0.24283589],\n",
       "        [0.111276  , 0.24283589, 0.        ]],\n",
       "\n",
       "       [[0.        , 0.14390275, 0.06594133],\n",
       "        [0.14390275, 0.        , 0.14390275],\n",
       "        [0.06594133, 0.14390275, 0.        ]]])"
      ]
     },
     "execution_count": 112,
     "metadata": {},
     "output_type": "execute_result"
    }
   ],
   "source": [
    "K3_gradient"
   ]
  },
  {
   "cell_type": "code",
   "execution_count": 56,
   "metadata": {},
   "outputs": [
    {
     "data": {
      "text/plain": [
       "array([1.41421356, 2.82842712, 1.41421356])"
      ]
     },
     "execution_count": 56,
     "metadata": {},
     "output_type": "execute_result"
    }
   ],
   "source": [
    "#%%timeit -n 1000\n",
    "pdist(Z, 'minkowski', p=2, w=(1/theta**2))**2"
   ]
  },
  {
   "cell_type": "code",
   "execution_count": 79,
   "metadata": {},
   "outputs": [],
   "source": [
    "Z1 = np.zeros([Z.shape[0], 2])"
   ]
  },
  {
   "cell_type": "code",
   "execution_count": 84,
   "metadata": {},
   "outputs": [],
   "source": [
    "Z1[:,0] = Z[:,0]"
   ]
  },
  {
   "cell_type": "code",
   "execution_count": 85,
   "metadata": {},
   "outputs": [
    {
     "data": {
      "text/plain": [
       "array([[1., 0.],\n",
       "       [3., 0.],\n",
       "       [5., 0.]])"
      ]
     },
     "execution_count": 85,
     "metadata": {},
     "output_type": "execute_result"
    }
   ],
   "source": [
    "Z1"
   ]
  },
  {
   "cell_type": "code",
   "execution_count": 95,
   "metadata": {},
   "outputs": [
    {
     "data": {
      "text/plain": [
       "array([0.5, 2. , 0.5])"
      ]
     },
     "execution_count": 95,
     "metadata": {},
     "output_type": "execute_result"
    }
   ],
   "source": [
    "pdist(Z1, 'sqeuclidean')/theta[0]**3"
   ]
  },
  {
   "cell_type": "code",
   "execution_count": 88,
   "metadata": {},
   "outputs": [
    {
     "data": {
      "text/plain": [
       "0.4856717852477124"
      ]
     },
     "execution_count": 88,
     "metadata": {},
     "output_type": "execute_result"
    }
   ],
   "source": [
    "np.exp(-1/2-2/9)"
   ]
  },
  {
   "cell_type": "code",
   "execution_count": null,
   "metadata": {},
   "outputs": [],
   "source": []
  },
  {
   "cell_type": "code",
   "execution_count": null,
   "metadata": {},
   "outputs": [],
   "source": []
  },
  {
   "cell_type": "code",
   "execution_count": 135,
   "metadata": {},
   "outputs": [],
   "source": [
    "def ard_exp_kernel(a, b, theta_):\n",
    "    # theta includes number of parameters\n",
    "    squared_dist = (a-b)**2\n",
    "    squared_dist = np.dot(squared_dist, 1/theta_**2)\n",
    "    return np.exp(-squared_dist/2)"
   ]
  },
  {
   "cell_type": "code",
   "execution_count": 160,
   "metadata": {},
   "outputs": [],
   "source": [
    "def ard_exp_kernel_gradient(a,b, theta_):\n",
    "    squared_dist = (a-b)**2\n",
    "    #print(squared_dist)\n",
    "    return squared_dist * (1/theta_**3)"
   ]
  },
  {
   "cell_type": "code",
   "execution_count": 189,
   "metadata": {},
   "outputs": [],
   "source": [
    "def ard_exp_kernel2(X, theta_):\n",
    "    K = pairwise_kernels(Z, metric=ard_exp_kernel,  theta_= theta)\n",
    "    K_gradients = []\n",
    "    for dim in range(X.shape[1]):\n",
    "        k_gradient_temp = np.multiply( pairwise_kernels(Z[:,dim].reshape(-1,1), metric=ard_exp_kernel_gradient,  theta_= theta[dim]), K)\n",
    "        K_gradients.append(k_gradient_temp)  \n",
    "    return K, np.array(K_gradients)"
   ]
  },
  {
   "cell_type": "code",
   "execution_count": 190,
   "metadata": {},
   "outputs": [],
   "source": [
    "K = pairwise_kernels(Z, metric=ard_exp_kernel,  theta_= theta)"
   ]
  },
  {
   "cell_type": "code",
   "execution_count": 191,
   "metadata": {},
   "outputs": [
    {
     "name": "stdout",
     "output_type": "stream",
     "text": [
      "164 µs ± 9.96 µs per loop (mean ± std. dev. of 7 runs, 1000 loops each)\n"
     ]
    }
   ],
   "source": [
    "%%timeit -n 1000\n",
    "K_gradient1 = np.multiply( pairwise_kernels(Z[:,0].reshape(-1,1), metric=ard_exp_kernel_gradient,  theta_= theta[0]), K)\n",
    "K_gradient2 = np.multiply( pairwise_kernels(Z[:,1].reshape(-1,1), metric=ard_exp_kernel_gradient,  theta_= theta[1]), K)"
   ]
  },
  {
   "cell_type": "code",
   "execution_count": 197,
   "metadata": {},
   "outputs": [
    {
     "name": "stdout",
     "output_type": "stream",
     "text": [
      "195 µs ± 15 µs per loop (mean ± std. dev. of 7 runs, 1000 loops each)\n"
     ]
    }
   ],
   "source": [
    "%%timeit -n 1000\n",
    "K, K_gradient = ard_exp_kernel2(Z, theta)"
   ]
  },
  {
   "cell_type": "code",
   "execution_count": 193,
   "metadata": {},
   "outputs": [
    {
     "data": {
      "text/plain": [
       "array([[[0.        , 0.24283589, 0.111276  ],\n",
       "        [0.24283589, 0.        , 0.24283589],\n",
       "        [0.111276  , 0.24283589, 0.        ]],\n",
       "\n",
       "       [[0.        , 0.07195138, 0.03297067],\n",
       "        [0.07195138, 0.        , 0.07195138],\n",
       "        [0.03297067, 0.07195138, 0.        ]]])"
      ]
     },
     "execution_count": 193,
     "metadata": {},
     "output_type": "execute_result"
    }
   ],
   "source": [
    "K_gradient"
   ]
  },
  {
   "cell_type": "code",
   "execution_count": 194,
   "metadata": {},
   "outputs": [
    {
     "data": {
      "text/plain": [
       "array([[1.        , 0.48567179, 0.055638  ],\n",
       "       [0.48567179, 1.        , 0.48567179],\n",
       "       [0.055638  , 0.48567179, 1.        ]])"
      ]
     },
     "execution_count": 194,
     "metadata": {},
     "output_type": "execute_result"
    }
   ],
   "source": [
    "K"
   ]
  },
  {
   "cell_type": "markdown",
   "metadata": {},
   "source": [
    "Recursive ARD kernel:\n",
    "$$ K(x_i, x_j) = \\exp \\Big( \\sum_{d=1}^{D} \\frac{-|| x_i - x_j ||^2}{2l_d^2} \\Big) \\exp \\Big( \\frac{K(x_i, x_j)_{pre} - 1}{\\rho^2}  \\Big)  $$\n"
   ]
  },
  {
   "cell_type": "code",
   "execution_count": 241,
   "metadata": {},
   "outputs": [],
   "source": [
    "# initiliaze\n",
    "theta=np.array([2, 3])\n",
    "rho = 2\n",
    "\n",
    "K_pre, K_pre_gradients  = ard_squared_exp_kernel(Z, theta)"
   ]
  },
  {
   "cell_type": "code",
   "execution_count": 251,
   "metadata": {},
   "outputs": [
    {
     "data": {
      "text/plain": [
       "array([2, 3, 2])"
      ]
     },
     "execution_count": 251,
     "metadata": {},
     "output_type": "execute_result"
    }
   ],
   "source": [
    "np.append(theta, rho)"
   ]
  },
  {
   "cell_type": "code",
   "execution_count": 233,
   "metadata": {},
   "outputs": [],
   "source": [
    "K_pre_gradients = np.array([np.zeros(Z.shape[0]), np.zeros(Z.shape[0]), np.zeros(Z.shape[0])])"
   ]
  },
  {
   "cell_type": "code",
   "execution_count": 234,
   "metadata": {},
   "outputs": [
    {
     "data": {
      "text/plain": [
       "array([[0., 0., 0.],\n",
       "       [0., 0., 0.],\n",
       "       [0., 0., 0.]])"
      ]
     },
     "execution_count": 234,
     "metadata": {},
     "output_type": "execute_result"
    }
   ],
   "source": [
    "K_pre_gradients"
   ]
  },
  {
   "cell_type": "code",
   "execution_count": 236,
   "metadata": {},
   "outputs": [],
   "source": [
    "def recursive_ard(X, theta_):\n",
    "    rho  = theta_[-1]\n",
    "    #print(np.eye(X.shape[0] ))\n",
    "    theta_current = theta_[:-1]\n",
    "    K_ard, K_gradients_ = ard_squared_exp_kernel(X, theta_current)\n",
    "    K_state = np.exp( (K_pre - 1)/rho**2 )\n",
    "    K = np.multiply(K_ard, K_state)\n",
    "    return K"
   ]
  },
  {
   "cell_type": "code",
   "execution_count": 237,
   "metadata": {},
   "outputs": [
    {
     "data": {
      "text/plain": [
       "array([[1.        , 0.37824157, 0.04333092],\n",
       "       [0.37824157, 1.        , 0.37824157],\n",
       "       [0.04333092, 0.37824157, 1.        ]])"
      ]
     },
     "execution_count": 237,
     "metadata": {},
     "output_type": "execute_result"
    }
   ],
   "source": [
    "recursive_ard(Z, theta)"
   ]
  },
  {
   "cell_type": "code",
   "execution_count": null,
   "metadata": {},
   "outputs": [],
   "source": []
  }
 ],
 "metadata": {
  "kernelspec": {
   "display_name": "Python 3",
   "language": "python",
   "name": "python3"
  },
  "language_info": {
   "codemirror_mode": {
    "name": "ipython",
    "version": 3
   },
   "file_extension": ".py",
   "mimetype": "text/x-python",
   "name": "python",
   "nbconvert_exporter": "python",
   "pygments_lexer": "ipython3",
   "version": "3.6.5"
  }
 },
 "nbformat": 4,
 "nbformat_minor": 2
}
