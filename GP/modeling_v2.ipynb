{
 "cells": [
  {
   "cell_type": "markdown",
   "metadata": {},
   "source": [
    "There are 20 trials: X1, X2, ..., X20\n",
    "keep the depth as 9\n",
    "\n",
    "Each trial has sequence of points: X1 = {x11, x12, x13, ..., x15}\n",
    "\n",
    "Algorithm:\n",
    "    1. upload X1 with given depth for 9 different objects\n",
    "    2. optimize hyperparameters for all of the models\n",
    "    3. predict depth+1, record probability, get label\n",
    "    4. re-upload X1 with new, remove anything far before depth+1"
   ]
  },
  {
   "cell_type": "code",
   "execution_count": 1,
   "metadata": {},
   "outputs": [],
   "source": [
    "%matplotlib inline\n",
    "import numpy as np\n",
    "from matplotlib import pyplot as plt\n",
    "from sklearn.metrics.pairwise import pairwise_kernels\n",
    "from scipy.optimize import fmin_l_bfgs_b\n",
    "from scipy.linalg import cholesky, cho_solve, solve_triangular\n",
    "import pickle\n",
    "import pandas as pd\n",
    "from scipy.spatial.distance import pdist, squareform, cdist"
   ]
  },
  {
   "cell_type": "markdown",
   "metadata": {},
   "source": [
    "### Upload data"
   ]
  },
  {
   "cell_type": "raw",
   "metadata": {},
   "source": [
    "data[obj_name][trial]"
   ]
  },
  {
   "cell_type": "code",
   "execution_count": 2,
   "metadata": {},
   "outputs": [],
   "source": [
    "data = pickle.load(open('../dataset.pkl', 'rb'))\n",
    "df = pd.read_csv('../df.csv')"
   ]
  },
  {
   "cell_type": "code",
   "execution_count": 3,
   "metadata": {},
   "outputs": [
    {
     "data": {
      "text/html": [
       "<div>\n",
       "<style scoped>\n",
       "    .dataframe tbody tr th:only-of-type {\n",
       "        vertical-align: middle;\n",
       "    }\n",
       "\n",
       "    .dataframe tbody tr th {\n",
       "        vertical-align: top;\n",
       "    }\n",
       "\n",
       "    .dataframe thead th {\n",
       "        text-align: right;\n",
       "    }\n",
       "</style>\n",
       "<table border=\"1\" class=\"dataframe\">\n",
       "  <thead>\n",
       "    <tr style=\"text-align: right;\">\n",
       "      <th></th>\n",
       "      <th>thumb_1</th>\n",
       "      <th>thumb_2</th>\n",
       "      <th>thumb_3</th>\n",
       "      <th>thumb_4</th>\n",
       "      <th>thumb_5</th>\n",
       "      <th>thumb_6</th>\n",
       "      <th>thumb_7</th>\n",
       "      <th>thumb_8</th>\n",
       "      <th>thumb_9</th>\n",
       "      <th>thumb_10</th>\n",
       "      <th>...</th>\n",
       "      <th>little_5</th>\n",
       "      <th>little_6</th>\n",
       "      <th>little_7</th>\n",
       "      <th>little_8</th>\n",
       "      <th>little_9</th>\n",
       "      <th>little_10</th>\n",
       "      <th>little_11</th>\n",
       "      <th>little_12</th>\n",
       "      <th>obj_name</th>\n",
       "      <th>trial</th>\n",
       "    </tr>\n",
       "  </thead>\n",
       "  <tbody>\n",
       "    <tr>\n",
       "      <th>0</th>\n",
       "      <td>0.05098</td>\n",
       "      <td>0.050980</td>\n",
       "      <td>0.054902</td>\n",
       "      <td>0.047059</td>\n",
       "      <td>0.047059</td>\n",
       "      <td>0.047059</td>\n",
       "      <td>0.050980</td>\n",
       "      <td>0.047059</td>\n",
       "      <td>0.047059</td>\n",
       "      <td>0.050980</td>\n",
       "      <td>...</td>\n",
       "      <td>0.027451</td>\n",
       "      <td>0.031373</td>\n",
       "      <td>0.027451</td>\n",
       "      <td>0.031373</td>\n",
       "      <td>0.035294</td>\n",
       "      <td>0.031373</td>\n",
       "      <td>0.027451</td>\n",
       "      <td>0.039216</td>\n",
       "      <td>blue_bear</td>\n",
       "      <td>1</td>\n",
       "    </tr>\n",
       "    <tr>\n",
       "      <th>1</th>\n",
       "      <td>0.05098</td>\n",
       "      <td>0.050980</td>\n",
       "      <td>0.054902</td>\n",
       "      <td>0.047059</td>\n",
       "      <td>0.047059</td>\n",
       "      <td>0.050980</td>\n",
       "      <td>0.050980</td>\n",
       "      <td>0.050980</td>\n",
       "      <td>0.047059</td>\n",
       "      <td>0.047059</td>\n",
       "      <td>...</td>\n",
       "      <td>0.031373</td>\n",
       "      <td>0.027451</td>\n",
       "      <td>0.027451</td>\n",
       "      <td>0.027451</td>\n",
       "      <td>0.039216</td>\n",
       "      <td>0.027451</td>\n",
       "      <td>0.031373</td>\n",
       "      <td>0.043137</td>\n",
       "      <td>blue_bear</td>\n",
       "      <td>1</td>\n",
       "    </tr>\n",
       "    <tr>\n",
       "      <th>2</th>\n",
       "      <td>0.05098</td>\n",
       "      <td>0.054902</td>\n",
       "      <td>0.054902</td>\n",
       "      <td>0.050980</td>\n",
       "      <td>0.050980</td>\n",
       "      <td>0.047059</td>\n",
       "      <td>0.047059</td>\n",
       "      <td>0.050980</td>\n",
       "      <td>0.047059</td>\n",
       "      <td>0.050980</td>\n",
       "      <td>...</td>\n",
       "      <td>0.027451</td>\n",
       "      <td>0.031373</td>\n",
       "      <td>0.027451</td>\n",
       "      <td>0.027451</td>\n",
       "      <td>0.031373</td>\n",
       "      <td>0.035294</td>\n",
       "      <td>0.027451</td>\n",
       "      <td>0.039216</td>\n",
       "      <td>blue_bear</td>\n",
       "      <td>1</td>\n",
       "    </tr>\n",
       "    <tr>\n",
       "      <th>3</th>\n",
       "      <td>0.05098</td>\n",
       "      <td>0.054902</td>\n",
       "      <td>0.054902</td>\n",
       "      <td>0.047059</td>\n",
       "      <td>0.050980</td>\n",
       "      <td>0.050980</td>\n",
       "      <td>0.050980</td>\n",
       "      <td>0.050980</td>\n",
       "      <td>0.047059</td>\n",
       "      <td>0.050980</td>\n",
       "      <td>...</td>\n",
       "      <td>0.035294</td>\n",
       "      <td>0.031373</td>\n",
       "      <td>0.027451</td>\n",
       "      <td>0.031373</td>\n",
       "      <td>0.031373</td>\n",
       "      <td>0.035294</td>\n",
       "      <td>0.027451</td>\n",
       "      <td>0.043137</td>\n",
       "      <td>blue_bear</td>\n",
       "      <td>1</td>\n",
       "    </tr>\n",
       "    <tr>\n",
       "      <th>4</th>\n",
       "      <td>0.05098</td>\n",
       "      <td>0.054902</td>\n",
       "      <td>0.054902</td>\n",
       "      <td>0.050980</td>\n",
       "      <td>0.050980</td>\n",
       "      <td>0.050980</td>\n",
       "      <td>0.047059</td>\n",
       "      <td>0.050980</td>\n",
       "      <td>0.047059</td>\n",
       "      <td>0.047059</td>\n",
       "      <td>...</td>\n",
       "      <td>0.035294</td>\n",
       "      <td>0.031373</td>\n",
       "      <td>0.027451</td>\n",
       "      <td>0.027451</td>\n",
       "      <td>0.035294</td>\n",
       "      <td>0.027451</td>\n",
       "      <td>0.031373</td>\n",
       "      <td>0.039216</td>\n",
       "      <td>blue_bear</td>\n",
       "      <td>1</td>\n",
       "    </tr>\n",
       "  </tbody>\n",
       "</table>\n",
       "<p>5 rows × 62 columns</p>\n",
       "</div>"
      ],
      "text/plain": [
       "   thumb_1   thumb_2   thumb_3   thumb_4   thumb_5   thumb_6   thumb_7  \\\n",
       "0  0.05098  0.050980  0.054902  0.047059  0.047059  0.047059  0.050980   \n",
       "1  0.05098  0.050980  0.054902  0.047059  0.047059  0.050980  0.050980   \n",
       "2  0.05098  0.054902  0.054902  0.050980  0.050980  0.047059  0.047059   \n",
       "3  0.05098  0.054902  0.054902  0.047059  0.050980  0.050980  0.050980   \n",
       "4  0.05098  0.054902  0.054902  0.050980  0.050980  0.050980  0.047059   \n",
       "\n",
       "    thumb_8   thumb_9  thumb_10  ...    little_5  little_6  little_7  \\\n",
       "0  0.047059  0.047059  0.050980  ...    0.027451  0.031373  0.027451   \n",
       "1  0.050980  0.047059  0.047059  ...    0.031373  0.027451  0.027451   \n",
       "2  0.050980  0.047059  0.050980  ...    0.027451  0.031373  0.027451   \n",
       "3  0.050980  0.047059  0.050980  ...    0.035294  0.031373  0.027451   \n",
       "4  0.050980  0.047059  0.047059  ...    0.035294  0.031373  0.027451   \n",
       "\n",
       "   little_8  little_9  little_10  little_11  little_12   obj_name  trial  \n",
       "0  0.031373  0.035294   0.031373   0.027451   0.039216  blue_bear      1  \n",
       "1  0.027451  0.039216   0.027451   0.031373   0.043137  blue_bear      1  \n",
       "2  0.027451  0.031373   0.035294   0.027451   0.039216  blue_bear      1  \n",
       "3  0.031373  0.031373   0.035294   0.027451   0.043137  blue_bear      1  \n",
       "4  0.027451  0.035294   0.027451   0.031373   0.039216  blue_bear      1  \n",
       "\n",
       "[5 rows x 62 columns]"
      ]
     },
     "execution_count": 3,
     "metadata": {},
     "output_type": "execute_result"
    }
   ],
   "source": [
    "df.head()"
   ]
  },
  {
   "cell_type": "code",
   "execution_count": 16,
   "metadata": {},
   "outputs": [
    {
     "data": {
      "text/plain": [
       "60"
      ]
     },
     "execution_count": 16,
     "metadata": {},
     "output_type": "execute_result"
    }
   ],
   "source": []
  },
  {
   "cell_type": "code",
   "execution_count": 4,
   "metadata": {},
   "outputs": [],
   "source": [
    "obj_names = list(df['obj_name'].unique())"
   ]
  },
  {
   "cell_type": "code",
   "execution_count": 5,
   "metadata": {},
   "outputs": [],
   "source": [
    "obj_to_id = {\n",
    "    'blue_bear':1,\n",
    "    'med_coke':2,\n",
    "    'book':3,\n",
    "    'empty_coke':4,\n",
    "    'lotion':5,\n",
    "    'empty_vitamin_water':6,\n",
    "    'med_vitamin_water':7,\n",
    "    'full_vitamin_water':8,\n",
    "    'monkey_toy':9\n",
    "}"
   ]
  },
  {
   "cell_type": "code",
   "execution_count": 6,
   "metadata": {},
   "outputs": [
    {
     "data": {
      "text/plain": [
       "['blue_bear',\n",
       " 'med_coke',\n",
       " 'book',\n",
       " 'empty_coke',\n",
       " 'lotion',\n",
       " 'empty_vitamin_water',\n",
       " 'med_vitamin_water',\n",
       " 'full_vitamin_water',\n",
       " 'monkey_toy']"
      ]
     },
     "execution_count": 6,
     "metadata": {},
     "output_type": "execute_result"
    }
   ],
   "source": [
    "obj_names"
   ]
  },
  {
   "cell_type": "markdown",
   "metadata": {},
   "source": [
    "### Kernels"
   ]
  },
  {
   "cell_type": "code",
   "execution_count": 7,
   "metadata": {},
   "outputs": [],
   "source": [
    "def squared_exp_kernel(X, theta_):\n",
    "    pairwise_dists = squareform(pdist(X, 'euclidean'))**2\n",
    "    K = np.exp(-pairwise_dists/ (2 * theta_[0] ** 2))\n",
    "    K_gradient = np.multiply(pairwise_dists/(theta_[0]**3), K)\n",
    "    return K, np.expand_dims(K_gradient, axis=2)\n",
    "\n",
    "def squared_exp_kernel_func(a, b, theta_):\n",
    "    # theta includes number of parameters\n",
    "    squared_dist = np.linalg.norm(a-b)**2\n",
    "    k = np.exp(-squared_dist/(2*theta_[0]**2))\n",
    "    return k"
   ]
  },
  {
   "cell_type": "code",
   "execution_count": 8,
   "metadata": {},
   "outputs": [],
   "source": [
    "#from sklearn.gaussian_process.kernels import NormalizedKernelMixin, StationaryKernelMixin, Kernel, Hyperparameter, _check_length_scale"
   ]
  },
  {
   "cell_type": "code",
   "execution_count": 12,
   "metadata": {},
   "outputs": [],
   "source": [
    "from kernels2 import RBF as RBF2"
   ]
  },
  {
   "cell_type": "markdown",
   "metadata": {},
   "source": [
    "### Learning"
   ]
  },
  {
   "cell_type": "code",
   "execution_count": 13,
   "metadata": {},
   "outputs": [],
   "source": [
    "DEPTH = 10"
   ]
  },
  {
   "cell_type": "code",
   "execution_count": 17,
   "metadata": {},
   "outputs": [],
   "source": [
    "from sklearn.gaussian_process import GaussianProcessRegressor, GaussianProcessClassifier\n",
    "from sklearn.gaussian_process.kernels import RBF, ConstantKernel\n",
    "\n",
    "# Instantiate a Gaussian Process model\n",
    "kernel = RBF2(np.ones(df.shape[1]-2), (1e-2, 1e2))\n",
    "gp = GaussianProcessClassifier(kernel=kernel, n_restarts_optimizer=2)"
   ]
  },
  {
   "cell_type": "code",
   "execution_count": 18,
   "metadata": {},
   "outputs": [
    {
     "name": "stderr",
     "output_type": "stream",
     "text": [
      "/home/tasbolat/anaconda3/lib/python3.6/site-packages/sklearn/utils/validation.py:578: DataConversionWarning: A column-vector y was passed when a 1d array was expected. Please change the shape of y to (n_samples, ), for example using ravel().\n",
      "  y = column_or_1d(y, warn=True)\n"
     ]
    },
    {
     "data": {
      "text/plain": [
       "GaussianProcessClassifier(copy_X_train=True,\n",
       "             kernel=RBF(length_scale=[1, 1, 1, 1, 1, 1, 1, 1, 1, 1, 1, 1, 1, 1, 1, 1, 1, 1, 1, 1, 1, 1, 1, 1, 1, 1, 1, 1, 1, 1, 1, 1, 1, 1, 1, 1, 1, 1, 1, 1, 1, 1, 1, 1, 1, 1, 1, 1, 1, 1, 1, 1, 1, 1, 1, 1, 1, 1, 1, 1]),\n",
       "             max_iter_predict=100, multi_class='one_vs_rest', n_jobs=1,\n",
       "             n_restarts_optimizer=2, optimizer='fmin_l_bfgs_b',\n",
       "             random_state=None, warm_start=False)"
      ]
     },
     "execution_count": 18,
     "metadata": {},
     "output_type": "execute_result"
    }
   ],
   "source": [
    "\n",
    "# initilize the first training set\n",
    "trial = 1\n",
    "X = np.zeros([1,60])\n",
    "y = np.ones([1,1])\n",
    "for obj in obj_names:\n",
    "    X_temp = data[obj][trial][0:DEPTH]\n",
    "    y_temp = np.ones(X_temp.shape[0])*obj_to_id[obj]\n",
    "    y_temp = y_temp.reshape(-1,1)\n",
    "    X = np.vstack([X, X_temp])\n",
    "    y = np.vstack([y, y_temp])\n",
    "    \n",
    "X = X[1:]\n",
    "y = y[1:]\n",
    "gp.fit(X, y)"
   ]
  },
  {
   "cell_type": "code",
   "execution_count": 19,
   "metadata": {},
   "outputs": [
    {
     "name": "stdout",
     "output_type": "stream",
     "text": [
      "[6.]\n",
      "[1.]\n"
     ]
    }
   ],
   "source": [
    "obj = 'med_coke'\n",
    "for i in range(DEPTH, 40):\n",
    "    X_temp = data[obj][trial][i:i+1]\n",
    "    if X_temp.shape[0] == 0:\n",
    "        break\n",
    "    #y_temp = np.array([1])*obj_to_id[obj]\n",
    "    #y_temp = y_temp.reshape(-1,1)\n",
    "    \n",
    "    # do prediction\n",
    "    #y_pred, y_sigma = my_gp.predict(theta_= models[obj], x_star=X_temp)\n",
    "    #print(y_pred, y_sigma)\n",
    "    \n",
    "    y_pred = gp.predict(X_temp)\n",
    "    print(y_pred)\n",
    "    #X = np.vstack([X, X_temp])\n",
    "    #y = np.vstack([y, y_temp])\n",
    "    \n",
    "    #X = X[1:]\n",
    "    #y = y[1:]\n",
    "    "
   ]
  },
  {
   "cell_type": "code",
   "execution_count": 20,
   "metadata": {},
   "outputs": [
    {
     "data": {
      "text/plain": [
       "CompoundKernel(1.16, 1.16, 1.03, 1.16, 1.12, 1.16, 1.12, 0.817, 0.817, 1.03, 1.03, 0.817, 1.03, 0, 0, 0, 0, 0, 0, 0, 0, 0, 0, 0, 1.03, 0, 0.817, 1.03, 0, 0, 1.23, 1.23, 0.817, 1.12, 1.17, 0, 1.12, 0, 0, 0, 0.817, 0, 1.03, 0, 0, 0, 0.817, 0.817, 1.03, 0, 1.03, 1.24, 1.21, 1.03, 1.03, 1.24, 1.23, 1.21, 1.12, 1.16, 1.16, 1.16, 1.03, 1.16, 1.12, 1.16, 1.12, 0.817, 0.817, 1.03, 1.03, 0.817, 1.03, 0, 0, 0, 0, 0, 0, 0, 0, 0, 0, 0, 1.03, 0, 0.817, 1.03, 0, 0, 1.23, 1.23, 0.817, 1.12, 1.17, 0, 1.12, 0, 0, 0, 0.817, 0, 1.03, 0, 0, 0, 0.817, 0.817, 1.03, 0, 1.03, 1.24, 1.21, 1.03, 1.03, 1.24, 1.23, 1.21, 1.12, 1.16, 1.16, 1.16, 1.03, 1.16, 1.12, 1.16, 1.12, 0.817, 0.817, 1.03, 1.03, 0.817, 1.03, 0, 0, 0, 0, 0, 0, 0, 0, 0, 0, 0, 1.03, 0, 0.817, 1.03, 0, 0, 1.23, 1.23, 0.817, 1.12, 1.17, 0, 1.12, 0, 0, 0, 0.817, 0, 1.03, 0, 0, 0, 0.817, 0.817, 1.03, 0, 1.03, 1.24, 1.21, 1.03, 1.03, 1.24, 1.23, 1.21, 1.12, 1.16, 1.16, 1.16, 1.03, 1.16, 1.12, 1.16, 1.12, 0.817, 0.817, 1.03, 1.03, 0.817, 1.03, 0, 0, 0, 0, 0, 0, 0, 0, 0, 0, 0, 1.03, 0, 0.817, 1.03, 0, 0, 1.23, 1.23, 0.817, 1.12, 1.17, 0, 1.12, 0, 0, 0, 0.817, 0, 1.03, 0, 0, 0, 0.817, 0.817, 1.03, 0, 1.03, 1.24, 1.21, 1.03, 1.03, 1.24, 1.23, 1.21, 1.12, 1.16, 1.16, 1.16, 1.03, 1.16, 1.12, 1.16, 1.12, 0.817, 0.817, 1.03, 1.03, 0.817, 1.03, 0, 0, 0, 0, 0, 0, 0, 0, 0, 0, 0, 1.03, 0, 0.817, 1.03, 0, 0, 1.23, 1.23, 0.817, 1.12, 1.17, 0, 1.12, 0, 0, 0, 0.817, 0, 1.03, 0, 0, 0, 0.817, 0.817, 1.03, 0, 1.03, 1.24, 1.21, 1.03, 1.03, 1.24, 1.23, 1.21, 1.12, 1.16, 1.16, 1.16, 1.03, 1.16, 1.12, 1.16, 1.12, 0.817, 0.817, 1.03, 1.03, 0.817, 1.03, 0, 0, 0, 0, 0, 0, 0, 0, 0, 0, 0, 1.03, 0, 0.817, 1.03, 0, 0, 1.23, 1.23, 0.817, 1.12, 1.17, 0, 1.12, 0, 0, 0, 0.817, 0, 1.03, 0, 0, 0, 0.817, 0.817, 1.03, 0, 1.03, 1.24, 1.21, 1.03, 1.03, 1.24, 1.23, 1.21, 1.12, 1.16, 1.16, 1.16, 1.03, 1.16, 1.12, 1.16, 1.12, 0.817, 0.817, 1.03, 1.03, 0.817, 1.03, 0, 0, 0, 0, 0, 0, 0, 0, 0, 0, 0, 1.03, 0, 0.817, 1.03, 0, 0, 1.23, 1.23, 0.817, 1.12, 1.17, 0, 1.12, 0, 0, 0, 0.817, 0, 1.03, 0, 0, 0, 0.817, 0.817, 1.03, 0, 1.03, 1.24, 1.21, 1.03, 1.03, 1.24, 1.23, 1.21, 1.12, 1.16, 1.16, 1.16, 1.03, 1.16, 1.12, 1.16, 1.12, 0.817, 0.817, 1.03, 1.03, 0.817, 1.03, 0, 0, 0, 0, 0, 0, 0, 0, 0, 0, 0, 1.03, 0, 0.817, 1.03, 0, 0, 1.23, 1.23, 0.817, 1.12, 1.17, 0, 1.12, 0, 0, 0, 0.817, 0, 1.03, 0, 0, 0, 0.817, 0.817, 1.03, 0, 1.03, 1.24, 1.21, 1.03, 1.03, 1.24, 1.23, 1.21, 1.12, 1.16, 1.16, 1.16, 1.03, 1.16, 1.12, 1.16, 1.12, 0.817, 0.817, 1.03, 1.03, 0.817, 1.03, 0, 0, 0, 0, 0, 0, 0, 0, 0, 0, 0, 1.03, 0, 0.817, 1.03, 0, 0, 1.23, 1.23, 0.817, 1.12, 1.17, 0, 1.12, 0, 0, 0, 0.817, 0, 1.03, 0, 0, 0, 0.817, 0.817, 1.03, 0, 1.03, 1.24, 1.21, 1.03, 1.03, 1.24, 1.23, 1.21, 1.12, 1.16)"
      ]
     },
     "execution_count": 20,
     "metadata": {},
     "output_type": "execute_result"
    }
   ],
   "source": [
    "gp.kernel_"
   ]
  },
  {
   "cell_type": "code",
   "execution_count": 59,
   "metadata": {},
   "outputs": [
    {
     "data": {
      "text/plain": [
       "CompoundKernel(4.61, 4.61, 4.61, 4.61, 4.61, 4.61, 2.89, 4.61, 4.61)"
      ]
     },
     "execution_count": 59,
     "metadata": {},
     "output_type": "execute_result"
    }
   ],
   "source": [
    "gp.kernel_"
   ]
  },
  {
   "cell_type": "code",
   "execution_count": null,
   "metadata": {},
   "outputs": [],
   "source": []
  }
 ],
 "metadata": {
  "kernelspec": {
   "display_name": "Python 3",
   "language": "python",
   "name": "python3"
  },
  "language_info": {
   "codemirror_mode": {
    "name": "ipython",
    "version": 3
   },
   "file_extension": ".py",
   "mimetype": "text/x-python",
   "name": "python",
   "nbconvert_exporter": "python",
   "pygments_lexer": "ipython3",
   "version": "3.6.5"
  }
 },
 "nbformat": 4,
 "nbformat_minor": 2
}
